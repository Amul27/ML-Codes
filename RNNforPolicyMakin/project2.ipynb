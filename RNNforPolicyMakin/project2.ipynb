{
 "cells": [
  {
   "cell_type": "markdown",
   "metadata": {},
   "source": [
    "# Natural Language Processing for Policy Making"
   ]
  },
  {
   "cell_type": "markdown",
   "metadata": {},
   "source": [
    "## Description of Data:\n",
    "We have a text data of special mentions in Rajya Sabha from session 194 to session 243 (the most recent). The ministry to which the special mention (a kind of question/demand) is then liable to reply to it. Since some of the mentions go unreplied, we attempt to predict which of the recent session's mentions are likely to be unreplied based on the trend obtained from previous sessions.  "
   ]
  },
  {
   "cell_type": "markdown",
   "metadata": {},
   "source": [
    "### We have 3 files of data:\n",
    "1. 'new_pos.txt': special mentions which got replies\n",
    "2. 'new_neg.txt': special mentions which didnot get replies\n",
    "3. 'predict-on.txt': special mentions of the recent session"
   ]
  },
  {
   "cell_type": "markdown",
   "metadata": {},
   "source": [
    "### 1. Lets import the data:"
   ]
  },
  {
   "cell_type": "code",
   "execution_count": 1,
   "metadata": {},
   "outputs": [],
   "source": [
    "with open('new_pos.txt','r') as a, open ('new_neg.txt','r') as b, open ('predict-on.txt','r') as c:\n",
    "    contentspos = a.read().splitlines()\n",
    "    contentsneg = b.read().splitlines()\n",
    "    contentspre = c.read().splitlines()\n",
    "    contents = contentspos + contentsneg + contentspre\n",
    "a.close()\n",
    "b.close()\n",
    "c.close()"
   ]
  },
  {
   "cell_type": "markdown",
   "metadata": {},
   "source": [
    "### 2. Lets build a tokenizer/dictionary from the data using Keras:"
   ]
  },
  {
   "cell_type": "code",
   "execution_count": 2,
   "metadata": {},
   "outputs": [
    {
     "name": "stderr",
     "output_type": "stream",
     "text": [
      "Using TensorFlow backend.\n"
     ]
    }
   ],
   "source": [
    "from keras.preprocessing.text import Tokenizer\n",
    "t = Tokenizer(num_words=None, lower=True, split=' ', char_level=False, oov_token=None)\n",
    "t.fit_on_texts(contents)\n",
    "vocab_size = len(t.word_index)"
   ]
  },
  {
   "cell_type": "markdown",
   "metadata": {},
   "source": [
    "### 3. Lets convert the given text to tokens using the dictionary:"
   ]
  },
  {
   "cell_type": "code",
   "execution_count": 3,
   "metadata": {},
   "outputs": [],
   "source": [
    "tokenized_docs = t.texts_to_sequences(contents)"
   ]
  },
  {
   "cell_type": "markdown",
   "metadata": {},
   "source": [
    "### 4. Lets pad the sequences to the max length of the mention:"
   ]
  },
  {
   "cell_type": "code",
   "execution_count": 4,
   "metadata": {},
   "outputs": [],
   "source": [
    "max_len = 0\n",
    "for i in tokenized_docs:\n",
    "    if len(i)>max_len:\n",
    "        max_len = len(i)\n",
    "from keras.preprocessing.sequence import pad_sequences\n",
    "padded_docs = pad_sequences(tokenized_docs,maxlen=max_len,dtype='int32',padding='pre',truncating='pre',value=0)"
   ]
  },
  {
   "cell_type": "markdown",
   "metadata": {},
   "source": [
    "### 5. Lets shuffle the dataset (not containing the texts to be predicted) and divide in test/train set:"
   ]
  },
  {
   "cell_type": "code",
   "execution_count": 6,
   "metadata": {},
   "outputs": [],
   "source": [
    "import random\n",
    "import numpy as np\n",
    "labels = list(np.ones(len(contentspos))) + list(np.zeros(len(contentsneg)))\n",
    "for_shuffling = list(zip(padded_docs[:len(contentspos)+len(contentsneg)],labels)) #gives us a list of tuples\n",
    "random.shuffle(for_shuffling)\n",
    "test_size = int(0.2*len(for_shuffling))\n",
    "X = [e[0] for e in for_shuffling]\n",
    "y = [e[1] for e in for_shuffling]\n",
    "X_train = X[:-test_size]\n",
    "y_train = y[:-test_size]\n",
    "X_test = X[-test_size:]\n",
    "y_test = y[-test_size:]\n",
    "X_train = np.array(X_train)\n",
    "y_train = np.array(y_train)\n",
    "X_test = np.array(X_test)\n",
    "y_test = np.array(y_test)"
   ]
  },
  {
   "cell_type": "markdown",
   "metadata": {},
   "source": [
    "### 6. Lets build the model now:"
   ]
  },
  {
   "cell_type": "code",
   "execution_count": 7,
   "metadata": {
    "scrolled": true
   },
   "outputs": [
    {
     "name": "stdout",
     "output_type": "stream",
     "text": [
      "_________________________________________________________________\n",
      "Layer (type)                 Output Shape              Param #   \n",
      "=================================================================\n",
      "embedding_1 (Embedding)      (None, 36, 256)           1486848   \n",
      "_________________________________________________________________\n",
      "lstm_1 (LSTM)                (None, 36, 32)            36992     \n",
      "_________________________________________________________________\n",
      "lstm_2 (LSTM)                (None, 8)                 1312      \n",
      "_________________________________________________________________\n",
      "dense_1 (Dense)              (None, 1)                 9         \n",
      "=================================================================\n",
      "Total params: 1,525,161\n",
      "Trainable params: 1,525,161\n",
      "Non-trainable params: 0\n",
      "_________________________________________________________________\n",
      "Train on 2583 samples, validate on 645 samples\n",
      "Epoch 1/50\n",
      " - 8s - loss: 0.6556 - acc: 0.6009 - val_loss: 0.6450 - val_acc: 0.6124\n",
      "Epoch 2/50\n",
      " - 7s - loss: 0.5283 - acc: 0.7522 - val_loss: 0.6521 - val_acc: 0.6589\n",
      "Epoch 3/50\n",
      " - 7s - loss: 0.3318 - acc: 0.8815 - val_loss: 0.7806 - val_acc: 0.6419\n",
      "Epoch 4/50\n",
      " - 8s - loss: 0.2111 - acc: 0.9264 - val_loss: 0.9450 - val_acc: 0.6310\n",
      "Epoch 5/50\n",
      " - 7s - loss: 0.1307 - acc: 0.9597 - val_loss: 1.2264 - val_acc: 0.6078\n",
      "Epoch 6/50\n",
      " - 7s - loss: 0.0915 - acc: 0.9706 - val_loss: 1.3275 - val_acc: 0.6031\n",
      "Epoch 7/50\n",
      " - 7s - loss: 0.0709 - acc: 0.9752 - val_loss: 1.4254 - val_acc: 0.6016\n",
      "Epoch 8/50\n",
      " - 7s - loss: 0.0546 - acc: 0.9818 - val_loss: 1.6743 - val_acc: 0.6031\n",
      "Epoch 9/50\n",
      " - 7s - loss: 0.0432 - acc: 0.9849 - val_loss: 1.7069 - val_acc: 0.5922\n",
      "Epoch 10/50\n",
      " - 7s - loss: 0.0386 - acc: 0.9872 - val_loss: 1.7732 - val_acc: 0.6078\n",
      "Epoch 11/50\n",
      " - 7s - loss: 0.0411 - acc: 0.9849 - val_loss: 1.6997 - val_acc: 0.6000\n",
      "Epoch 12/50\n",
      " - 7s - loss: 0.0217 - acc: 0.9923 - val_loss: 1.9261 - val_acc: 0.6016\n",
      "Epoch 13/50\n",
      " - 7s - loss: 0.0122 - acc: 0.9954 - val_loss: 2.0917 - val_acc: 0.6000\n",
      "Epoch 14/50\n",
      " - 8s - loss: 0.0117 - acc: 0.9965 - val_loss: 2.1689 - val_acc: 0.5969\n",
      "Epoch 15/50\n",
      " - 7s - loss: 0.0140 - acc: 0.9961 - val_loss: 2.1067 - val_acc: 0.6062\n",
      "Epoch 16/50\n",
      " - 7s - loss: 0.0069 - acc: 0.9988 - val_loss: 2.2098 - val_acc: 0.6109\n",
      "Epoch 17/50\n",
      " - 7s - loss: 0.0049 - acc: 0.9988 - val_loss: 2.2994 - val_acc: 0.6171\n",
      "Epoch 18/50\n",
      " - 7s - loss: 0.0051 - acc: 0.9985 - val_loss: 2.3842 - val_acc: 0.6000\n",
      "Epoch 19/50\n",
      " - 7s - loss: 0.0043 - acc: 0.9988 - val_loss: 2.3394 - val_acc: 0.6016\n",
      "Epoch 20/50\n",
      " - 7s - loss: 0.0031 - acc: 0.9992 - val_loss: 2.4149 - val_acc: 0.6047\n",
      "Epoch 21/50\n",
      " - 7s - loss: 0.0025 - acc: 0.9992 - val_loss: 2.4654 - val_acc: 0.6078\n",
      "Epoch 22/50\n",
      " - 10s - loss: 0.0024 - acc: 0.9988 - val_loss: 2.5001 - val_acc: 0.6031\n",
      "Epoch 23/50\n",
      " - 12s - loss: 0.0022 - acc: 0.9992 - val_loss: 2.5224 - val_acc: 0.6047\n",
      "Epoch 24/50\n",
      " - 8s - loss: 0.0020 - acc: 0.9988 - val_loss: 2.5788 - val_acc: 0.6062\n",
      "Epoch 25/50\n",
      " - 8s - loss: 0.0018 - acc: 0.9992 - val_loss: 2.5711 - val_acc: 0.6047\n",
      "Epoch 26/50\n",
      " - 9s - loss: 0.0018 - acc: 0.9992 - val_loss: 2.6173 - val_acc: 0.6062\n",
      "Epoch 27/50\n",
      " - 8s - loss: 0.0015 - acc: 0.9996 - val_loss: 2.6607 - val_acc: 0.6031\n",
      "Epoch 28/50\n",
      " - 7s - loss: 0.0013 - acc: 0.9996 - val_loss: 2.6534 - val_acc: 0.6047\n",
      "Epoch 29/50\n",
      " - 7s - loss: 0.0013 - acc: 0.9996 - val_loss: 2.6960 - val_acc: 0.6047\n",
      "Epoch 30/50\n",
      " - 7s - loss: 0.0011 - acc: 0.9996 - val_loss: 2.6997 - val_acc: 0.6062\n",
      "Epoch 31/50\n",
      " - 8s - loss: 0.0099 - acc: 0.9973 - val_loss: 2.3364 - val_acc: 0.5922\n",
      "Epoch 32/50\n",
      " - 9s - loss: 0.0842 - acc: 0.9698 - val_loss: 1.6418 - val_acc: 0.6000\n",
      "Epoch 33/50\n",
      " - 8s - loss: 0.0579 - acc: 0.9783 - val_loss: 1.7726 - val_acc: 0.5938\n",
      "Epoch 34/50\n",
      " - 8s - loss: 0.0162 - acc: 0.9950 - val_loss: 1.9405 - val_acc: 0.5938\n",
      "Epoch 35/50\n",
      " - 8s - loss: 0.0055 - acc: 0.9992 - val_loss: 2.1987 - val_acc: 0.6000\n",
      "Epoch 36/50\n",
      " - 8s - loss: 0.0032 - acc: 0.9992 - val_loss: 2.2913 - val_acc: 0.6000\n",
      "Epoch 37/50\n",
      " - 8s - loss: 0.0025 - acc: 0.9992 - val_loss: 2.3659 - val_acc: 0.6000\n",
      "Epoch 38/50\n",
      " - 8s - loss: 0.0019 - acc: 0.9992 - val_loss: 2.4261 - val_acc: 0.6016\n",
      "Epoch 39/50\n",
      " - 8s - loss: 0.0016 - acc: 0.9996 - val_loss: 2.4734 - val_acc: 0.6000\n",
      "Epoch 40/50\n",
      " - 9s - loss: 0.0014 - acc: 0.9996 - val_loss: 2.5489 - val_acc: 0.5953\n",
      "Epoch 41/50\n",
      " - 9s - loss: 0.0013 - acc: 0.9996 - val_loss: 2.5653 - val_acc: 0.6047\n",
      "Epoch 42/50\n",
      " - 8s - loss: 9.4630e-04 - acc: 1.0000 - val_loss: 2.6150 - val_acc: 0.5953\n",
      "Epoch 43/50\n",
      " - 9s - loss: 8.8635e-04 - acc: 1.0000 - val_loss: 2.6721 - val_acc: 0.5953\n",
      "Epoch 44/50\n",
      " - 10s - loss: 0.0010 - acc: 0.9996 - val_loss: 2.7013 - val_acc: 0.5984\n",
      "Epoch 45/50\n",
      " - 9s - loss: 5.2415e-04 - acc: 1.0000 - val_loss: 2.7220 - val_acc: 0.5969\n",
      "Epoch 46/50\n",
      " - 9s - loss: 4.2246e-04 - acc: 1.0000 - val_loss: 2.7497 - val_acc: 0.5969\n",
      "Epoch 47/50\n",
      " - 8s - loss: 3.8369e-04 - acc: 1.0000 - val_loss: 2.7755 - val_acc: 0.5953\n",
      "Epoch 48/50\n",
      " - 7s - loss: 3.5430e-04 - acc: 1.0000 - val_loss: 2.7994 - val_acc: 0.5969\n",
      "Epoch 49/50\n",
      " - 7s - loss: 3.2626e-04 - acc: 1.0000 - val_loss: 2.8227 - val_acc: 0.6000\n",
      "Epoch 50/50\n",
      " - 7s - loss: 3.0452e-04 - acc: 1.0000 - val_loss: 2.8443 - val_acc: 0.6000\n"
     ]
    },
    {
     "data": {
      "text/plain": [
       "<keras.callbacks.History at 0x7fd3f9b091d0>"
      ]
     },
     "execution_count": 7,
     "metadata": {},
     "output_type": "execute_result"
    }
   ],
   "source": [
    "from keras.models import Sequential\n",
    "from keras.layers.embeddings import Embedding\n",
    "from keras.layers import Dense, LSTM\n",
    "from keras.optimizers import Adam\n",
    "model = Sequential()\n",
    "model.add(Embedding(vocab_size,256,input_length=max_len))\n",
    "model.add(LSTM(units=32, return_sequences=True))\n",
    "model.add(LSTM(units=8, return_sequences=False))\n",
    "model.add(Dense(1,activation='sigmoid'))\n",
    "optimizer = Adam(lr=1e-3)\n",
    "model.compile(loss='binary_crossentropy',optimizer=optimizer,metrics=['accuracy'])\n",
    "model.summary()\n",
    "model.fit(X_train,y_train,validation_data=(X_test,y_test),epochs=50,batch_size=32,verbose=2)"
   ]
  }
 ],
 "metadata": {
  "kernelspec": {
   "display_name": "Python 3",
   "language": "python",
   "name": "python3"
  },
  "language_info": {
   "codemirror_mode": {
    "name": "ipython",
    "version": 3
   },
   "file_extension": ".py",
   "mimetype": "text/x-python",
   "name": "python",
   "nbconvert_exporter": "python",
   "pygments_lexer": "ipython3",
   "version": "3.6.4"
  }
 },
 "nbformat": 4,
 "nbformat_minor": 2
}
